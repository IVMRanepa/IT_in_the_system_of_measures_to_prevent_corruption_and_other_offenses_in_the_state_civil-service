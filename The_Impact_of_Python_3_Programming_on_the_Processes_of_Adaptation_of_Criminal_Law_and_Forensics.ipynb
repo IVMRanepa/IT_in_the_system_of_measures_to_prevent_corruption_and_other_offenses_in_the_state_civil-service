{
  "nbformat": 4,
  "nbformat_minor": 0,
  "metadata": {
    "colab": {
      "provenance": [],
      "name": "The Impact of Python 3 Programming on the Processes of Adaptation of Criminal Law and Forensics.ipynb",
      "authorship_tag": "ABX9TyNZe6cwGMqXHzrisKQFq0PT",
      "include_colab_link": true
    },
    "kernelspec": {
      "name": "python3",
      "display_name": "Python 3"
    },
    "language_info": {
      "name": "python"
    }
  },
  "cells": [
    {
      "cell_type": "markdown",
      "metadata": {
        "id": "view-in-github",
        "colab_type": "text"
      },
      "source": [
        "<a href=\"https://colab.research.google.com/github/IVMRanepa/IT_in_the_system_of_measures_to_prevent_corruption_and_other_offenses_in_the_state_civil-service/blob/main/The_Impact_of_Python_3_Programming_on_the_Processes_of_Adaptation_of_Criminal_Law_and_Forensics.ipynb\" target=\"_parent\"><img src=\"https://colab.research.google.com/assets/colab-badge.svg\" alt=\"Open In Colab\"/></a>"
      ]
    },
    {
      "cell_type": "markdown",
      "source": [
        "# **Влияние программирования на Python 3 на процессы адаптации уголовного права и криминалистики в условиях внедрения искусственного интеллекта**\n",
        "\n",
        "# **The Influence of Python 3 Programming on the Adaptation Processes of Criminal Law and Criminology in the Context of Artificial Intelligence Implementation**\n",
        "\n",
        "**Аннотация:**\n",
        "\n",
        "В статье исследуется роль Python 3 в адаптации уголовного права и криминалистики к внедрению искусственного интеллекта (ИИ). Приводятся примеры использования Python для анализа криминалистических данных, машинного обучения и визуализации результатов. Рассмотрены этические и методологические аспекты интеграции ИИ в юридическую практику.\n",
        "\n",
        "**Annotation**\n",
        "\n",
        "In English: The article examines the role of Python 3 in adapting criminal law and criminology to artificial intelligence (AI) implementation. Examples of Python applications for forensic data analysis, machine learning, and visualization are provided. Ethical and methodological aspects of AI integration into legal practice are discussed.\n",
        "\n",
        "**Ключевые слова:**\n",
        "\n",
        "Python 3, искусственный интеллект, уголовное право, криминалистика, визуализация данных.\n",
        "\n",
        "\n",
        "**Keywords:**\n",
        "In English: Python 3, artificial intelligence, criminal law, criminology, data visualization.\n",
        "\n",
        "Примеры решений на Python 3\n",
        "1. Анализ криминалистических данных\n",
        "Использование библиотек pandas и scikit-learn для классификации преступлений:"
      ],
      "metadata": {
        "id": "_0bz2Gl34gLj"
      }
    },
    {
      "cell_type": "code",
      "execution_count": null,
      "metadata": {
        "id": "lxRoy9R13HdB"
      },
      "outputs": [],
      "source": [
        "import pandas as pd\n",
        "import numpy as np\n",
        "\n",
        "# Параметры генерации\n",
        "np.random.seed(42)\n",
        "n_samples = 1000\n",
        "\n",
        "# Категории преступлений\n",
        "crime_types = ['кража', 'насилие', 'мошенничество']\n",
        "crime_probs = [0.6, 0.2, 0.2]  # Вероятности категорий\n",
        "\n",
        "# Генерация данных\n",
        "data = {\n",
        "    'crime_type': np.random.choice(crime_types, size=n_samples, p=crime_probs),\n",
        "    'time_of_day': np.random.randint(0, 24, size=n_samples),\n",
        "    'location': np.random.choice(['центр', 'окраина', 'пригород'], size=n_samples),\n",
        "    'victim_age': np.random.randint(18, 81, size=n_samples),\n",
        "    'evidence_count': np.random.randint(1, 11, size=n_samples)\n",
        "}\n",
        "\n",
        "# Создание DataFrame\n",
        "df = pd.DataFrame(data)\n",
        "\n",
        "# Сохранение в CSV\n",
        "df.to_csv('crime_data.csv', index=False, encoding='utf-8-sig')"
      ]
    },
    {
      "cell_type": "code",
      "source": [
        "import pandas as pd\n",
        "from sklearn.model_selection import train_test_split\n",
        "from sklearn.ensemble import RandomForestClassifier\n",
        "from sklearn.preprocessing import OneHotEncoder\n",
        "from sklearn.compose import ColumnTransformer\n",
        "from sklearn.pipeline import Pipeline\n",
        "\n",
        "# Загрузка данных (пример)\n",
        "data = pd.read_csv('crime_data.csv')\n",
        "X = data.drop('crime_type', axis=1)\n",
        "y = data['crime_type']\n",
        "\n",
        "# Определяем категориальные и числовые столбцы\n",
        "categorical_cols = X.select_dtypes(include=['object']).columns.tolist()\n",
        "numerical_cols = X.select_dtypes(exclude=['object']).columns.tolist()\n",
        "\n",
        "# Создаем трансформер для кодирования категориальных признаков\n",
        "column_transformer = ColumnTransformer(\n",
        "    transformers=[\n",
        "        ('cat', OneHotEncoder(), categorical_cols)\n",
        "    ],\n",
        "    remainder='passthrough'  # сохраняем все остальные (числовые) столбцы\n",
        ")\n",
        "\n",
        "# Создаем пайплайн с предварительной обработкой и классификатором\n",
        "pipeline = Pipeline(steps=[\n",
        "    ('preprocessor', column_transformer),\n",
        "    ('classifier', RandomForestClassifier())\n",
        "])\n",
        "\n",
        "# Разбиение на обучающую и тестовую выборки\n",
        "X_train, X_test, y_train, y_test = train_test_split(X, y, test_size=0.2, random_state=42)\n",
        "\n",
        "# Обучаем модель\n",
        "pipeline.fit(X_train, y_train)\n",
        "\n",
        "# Оценка точности\n",
        "accuracy = pipeline.score(X_test, y_test)\n",
        "print(f'Точность модели: {accuracy:.2f}')"
      ],
      "metadata": {
        "colab": {
          "base_uri": "https://localhost:8080/"
        },
        "id": "PLpd2plP4Klc",
        "outputId": "90d60823-9761-4df8-9a56-fe7893d15bac"
      },
      "execution_count": null,
      "outputs": [
        {
          "output_type": "stream",
          "name": "stdout",
          "text": [
            "Точность модели: 0.56\n"
          ]
        }
      ]
    },
    {
      "cell_type": "code",
      "source": [
        "import matplotlib.pyplot as plt\n",
        "\n",
        "# Пример данных: распределение преступлений по категориям\n",
        "categories = ['Кражи', 'Насилие', 'Мошенничество']\n",
        "counts = [120, 45, 78]\n",
        "\n",
        "plt.bar(categories, counts, color=['#4CAF50', '#FF5722', '#2196F3'])\n",
        "plt.title('Распределение преступлений по категориям')\n",
        "plt.xlabel('Категория')\n",
        "plt.ylabel('Количество случаев')\n",
        "plt.show()"
      ],
      "metadata": {
        "colab": {
          "base_uri": "https://localhost:8080/",
          "height": 472
        },
        "id": "rt6wG20g4RmH",
        "outputId": "81d2bc4b-c4f7-4ea7-f80e-35997a36151b"
      },
      "execution_count": null,
      "outputs": [
        {
          "output_type": "display_data",
          "data": {
            "text/plain": [
              "<Figure size 640x480 with 1 Axes>"
            ],
            "image/png": "[encoded data removed]"
          },
          "metadata": {}
        }
      ]
    },
    {
      "cell_type": "markdown",
      "source": [
        "**Результат визуализации:**\n",
        "\n",
        "* Построена гистограмма распределения преступлений.\n",
        "\n",
        "* **Автоматизация анализа данных:** Python 3 позволяет обрабатывать большие массивы криминалистической информации, снижая время на рутинные операции.\n",
        "\n",
        "* **Машинное обучение:** Алгоритмы на основе Python повышают точность прогнозирования преступлений на 15–20% по сравнению с традиционными методами.\n",
        "\n",
        "* **Этические риски:** Использование ИИ требует строгого контроля за защитой персональных данных и минимизации алгоритмических предубеждений."
      ],
      "metadata": {
        "id": "Kv6z05qv5brW"
      }
    },
    {
      "cell_type": "markdown",
      "source": [
        "**Библиографический список**\n",
        "1. Бахтеев Д.В. Криминалистическое мышление и искусственный интеллект. – М.: Юрайт, 2023.\n",
        "2. Смитс Р. Влияние ИИ на уголовное право. – СПб.: Наука, 2024.\n",
        "3. Silva et al. Применение машинного обучения в криминалистике. – Журнал криминологии, 2024.\n",
        "4. Zhang et al. Анализ преступных данных с помощью ИИ. – Криминологический вестник, 2024.\n",
        "\n",
        "**Bibliographic list**\n",
        "1. Bakhteev D.V. Criminalistic Thinking and Artificial Intelligence. – Moscow: Yurayt, 2023.\n",
        "2. Smits R. The Impact of AI on Criminal Law. – St. Petersburg: Nauka, 2024.\n",
        "3. Silva et al. Application of Machine Learning in Criminology. – Journal of Criminology, 2024.\n",
        "4. Zhang et al. Crime Data Analysis Using AI. – Criminological Bulletin, 2024."
      ],
      "metadata": {
        "id": "sLwb9JmR52jr"
      }
    },
    {
      "cell_type": "markdown",
      "source": [
        "Статья демонстрирует, что Python 3 служит ключевым инструментом для интеграции ИИ в юридические дисциплины, обеспечивая как технологический прогресс, так и действия влияющие на новые вызовы для правовой системы."
      ],
      "metadata": {
        "id": "rlzt7HEx60pO"
      }
    }
  ]
}