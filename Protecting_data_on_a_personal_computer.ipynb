{
  "nbformat": 4,
  "nbformat_minor": 0,
  "metadata": {
    "colab": {
      "provenance": [],
      "name": "Protecting data on a personal computer.ipynb",
      "authorship_tag": "ABX9TyOvSmvaonJygYWz1bVuEnNm",
      "include_colab_link": true
    },
    "kernelspec": {
      "name": "python3",
      "display_name": "Python 3"
    },
    "language_info": {
      "name": "python"
    }
  },
  "cells": [
    {
      "cell_type": "markdown",
      "metadata": {
        "id": "view-in-github",
        "colab_type": "text"
      },
      "source": [
        "<a href=\"https://colab.research.google.com/github/IVMRanepa/IT_in_the_system_of_measures_to_prevent_corruption_and_other_offenses_in_the_state_civil-service/blob/main/Protecting_data_on_a_personal_computer.ipynb\" target=\"_parent\"><img src=\"https://colab.research.google.com/assets/colab-badge.svg\" alt=\"Open In Colab\"/></a>"
      ]
    },
    {
      "cell_type": "markdown",
      "source": [
        "# **Защита данных на персональном компьютере**"
      ],
      "metadata": {
        "id": "377aSw6xjB8P"
      }
    },
    {
      "cell_type": "markdown",
      "source": [
        "**1. Установка антивирусной системы**\n",
        "\n",
        "Антивирусные программы являются одним из основных средств защиты от вредоносного ПО. Они сканируют компьютер на наличие вирусов и предотвращают их распространение."
      ],
      "metadata": {
        "id": "92TkOiA1jbAx"
      }
    },
    {
      "cell_type": "code",
      "execution_count": null,
      "metadata": {
        "id": "hNgo8uYyi6dC"
      },
      "outputs": [],
      "source": [
        "import os\n",
        "\n",
        "def install_antivirus():\n",
        "    # Пример установки антивируса (в реальности это делается через менеджер пакетов или установщик)\n",
        "    print(\"Установка антивирусной системы...\")\n",
        "    # Для Windows\n",
        "    os.system(\"start https://www.kaspersky.ru/downloads\")\n",
        "    # Для Linux\n",
        "    # os.system(\"sudo apt-get install clamav\")\n",
        "\n",
        "install_antivirus()"
      ]
    },
    {
      "cell_type": "markdown",
      "source": [
        "**2. Шифрование данных**\n",
        "\n",
        "Шифрование — это надежный способ защитить данные от несанкционированного доступа. В Windows можно использовать BitLocker, а в Linux — LUKS."
      ],
      "metadata": {
        "id": "M69b1rRCjsil"
      }
    },
    {
      "cell_type": "code",
      "source": [
        "import subprocess\n",
        "\n",
        "def encrypt_data():\n",
        "    # Пример шифрования диска (в реальности это делается через утилиты ОС)\n",
        "    print(\"Шифрование данных...\")\n",
        "    # Для Windows (BitLocker)\n",
        "    # subprocess.run([\"manage-bde\", \"-on\", \"C:\"], shell=True)\n",
        "    # Для Linux (LUKS)\n",
        "    # subprocess.run([\"sudo\", \"cryptsetup\", \"luksFormat\", \"/dev/sda1\"])\n",
        "\n",
        "encrypt_data()"
      ],
      "metadata": {
        "colab": {
          "base_uri": "https://localhost:8080/"
        },
        "id": "jFXhv76GjyhD",
        "outputId": "71c307d0-a173-44f4-db71-e5d458aeb7ce"
      },
      "execution_count": null,
      "outputs": [
        {
          "output_type": "stream",
          "name": "stdout",
          "text": [
            "Шифрование данных...\n"
          ]
        }
      ]
    },
    {
      "cell_type": "markdown",
      "source": [
        "**3. Регулярные резервные копии**\n",
        "\n",
        "Резервное копирование данных помогает предотвратить их потерю в случае сбоя или атаки."
      ],
      "metadata": {
        "id": "Nirg3KWzj_Eh"
      }
    },
    {
      "cell_type": "code",
      "source": [
        "import shutil\n",
        "\n",
        "def backup_data(src, dst):\n",
        "    \"\"\"\n",
        "    Создание резервной копии данных.\n",
        "    \"\"\"\n",
        "    try:\n",
        "        shutil.copytree(src, dst)\n",
        "        print(f\"Резервная копия создана: {dst}\")\n",
        "    except Exception as e:\n",
        "        print(f\"Ошибка создания резервной копии: {e}\")\n",
        "\n",
        "backup_data(\"/path/to/source\", \"/path/to/backup\")"
      ],
      "metadata": {
        "colab": {
          "base_uri": "https://localhost:8080/"
        },
        "id": "f4Z-kMVRkBnK",
        "outputId": "9c21f1f2-a102-4920-d608-6a0eea15b5a1"
      },
      "execution_count": null,
      "outputs": [
        {
          "output_type": "stream",
          "name": "stdout",
          "text": [
            "Ошибка создания резервной копии: [Errno 2] No such file or directory: '/path/to/source'\n"
          ]
        }
      ]
    },
    {
      "cell_type": "markdown",
      "source": [
        "**4. Управление паролями**\n",
        "\n",
        "Использование надежных паролей и менеджеров паролей помогает защитить доступ к системе и данным."
      ],
      "metadata": {
        "id": "RqMNMv_5kK7e"
      }
    },
    {
      "cell_type": "code",
      "source": [
        "import string\n",
        "import secrets\n",
        "\n",
        "def generate_password(length=12):\n",
        "    \"\"\"\n",
        "    Генерация случайного пароля.\n",
        "    \"\"\"\n",
        "    chars = string.ascii_letters + string.digits + string.punctuation\n",
        "    password = ''.join(secrets.choice(chars) for _ in range(length))\n",
        "    return password\n",
        "\n",
        "print(\"Сгенерированный пароль:\", generate_password())"
      ],
      "metadata": {
        "colab": {
          "base_uri": "https://localhost:8080/"
        },
        "id": "lWIO0hX8kQlv",
        "outputId": "55c16690-5340-4f96-8ab3-0e3a32d834e3"
      },
      "execution_count": null,
      "outputs": [
        {
          "output_type": "stream",
          "name": "stdout",
          "text": [
            "Сгенерированный пароль: 'oY-nE[\"H,pK\n"
          ]
        }
      ]
    },
    {
      "cell_type": "markdown",
      "source": [
        "**5. Визуализация защиты данных**\n",
        "\n",
        "Визуализация может помочь в понимании распространенности угроз и эффективности мер защиты."
      ],
      "metadata": {
        "id": "D_vgFOi2kcuj"
      }
    },
    {
      "cell_type": "code",
      "source": [
        "import matplotlib.pyplot as plt\n",
        "\n",
        "def plot_protection_methods():\n",
        "    methods = ['Антивирус', 'Шифрование', 'Резервные копии', 'Пароли']\n",
        "    effectiveness = [90, 95, 85, 80]  # примерные значения эффективности\n",
        "    plt.figure(figsize=(8,5))\n",
        "    bars = plt.bar(methods, effectiveness, color='blue')\n",
        "    plt.title('Эффективность методов защиты данных')\n",
        "    plt.xlabel('Метод защиты')\n",
        "    plt.ylabel('Эффективность (%)')\n",
        "    plt.show()\n",
        "\n",
        "plot_protection_methods()"
      ],
      "metadata": {
        "colab": {
          "base_uri": "https://localhost:8080/",
          "height": 487
        },
        "id": "O7mHpMbmkhsz",
        "outputId": "c81e9a02-a608-42b3-a26f-a522d91e9c7a"
      },
      "execution_count": null,
      "outputs": [
        {
          "output_type": "display_data",
          "data": {
            "text/plain": [
              "<Figure size 800x500 with 1 Axes>"
            ],
            "image/png": "[encoded data removed]"
          },
          "metadata": {}
        }
      ]
    },
    {
      "cell_type": "markdown",
      "source": [
        "**Выводы**\n",
        "* Антивирусные системы необходимы для защиты от вредоносного ПО.\n",
        "* Шифрование данных гарантирует их конфиденциальность.\n",
        "* Регулярные резервные копии помогают предотвратить потерю данных.\n",
        "* Надежные пароли и менеджеры паролей защищают доступ к системе.\n",
        "* Визуализация помогает в оценке эффективности мер защиты.\n",
        "\n",
        "**Библиографический список:**\n",
        "1. Способы защиты информации | Методы и средства // SearchInform Защита информации на компьютере // Help96\n",
        "2. Защита персональных данных на персональном компьютере // SearchInform Защита персональных компьютеров // Positive Education\n",
        "3. Способы защиты информации на компьютере // ZSC\n",
        "4. Основные методы обеспечения информационной безопасности // Smart-Soft\n",
        "5. Как защитить свои данные на компьютере // Sobaka.ru\n",
        "5. Способы защиты информации: как исключить неправомерный доступ // RT-Solar"
      ],
      "metadata": {
        "id": "8iMo9ikHkucF"
      }
    },
    {
      "cell_type": "code",
      "source": [
        "\"\"\"\n",
        "Практикум: Дополнительные примеры защиты данных на персональном компьютере\n",
        "Автор: [Ваше имя]\n",
        "Дата: 2025\n",
        "\n",
        "В данном практикуме представлены дополнительные методы защиты данных на ПК с примерами реализации на Python,\n",
        "комментариями, визуализацией и выводами.\n",
        "\n",
        "Источники:\n",
        "[1] Positive Education. Защита персональных компьютеров.\n",
        "[2] SearchInform. Способы защиты информации.\n",
        "[3] Help96. Защита информации на компьютере.\n",
        "[4] SearchInform. Защита персональных данных на ПК.\n",
        "[5] ZSC. Способы защиты информации на компьютере.\n",
        "[6] Smart-Soft. Основные методы обеспечения информационной безопасности.\n",
        "[7] Sobaka.ru. Как защитить свои данные на компьютере.\n",
        "[8] RT-Solar. Способы защиты информации.\n",
        "\"\"\"\n",
        "\n",
        "import os\n",
        "import hashlib\n",
        "import matplotlib.pyplot as plt\n",
        "\n",
        "# --- 1. Установка пароля на BIOS (симуляция проверки) ---\n",
        "\n",
        "def check_bios_password(password_input, correct_password_hash):\n",
        "    \"\"\"\n",
        "    Проверка пароля BIOS (в реальности пароль задается в BIOS, здесь симуляция).\n",
        "    Используем хеширование для сравнения.\n",
        "    \"\"\"\n",
        "    input_hash = hashlib.sha256(password_input.encode()).hexdigest()\n",
        "    if input_hash == correct_password_hash:\n",
        "        print(\"Доступ к BIOS разрешен\")\n",
        "        return True\n",
        "    else:\n",
        "        print(\"Неверный пароль BIOS! Доступ запрещен\")\n",
        "        return False\n",
        "\n",
        "# --- 2. Использование VPN для защиты соединения ---\n",
        "\n",
        "def simulate_vpn_connection():\n",
        "    \"\"\"\n",
        "    Симуляция установки VPN соединения.\n",
        "    В реальности VPN настраивается через специальные клиенты и протоколы.\n",
        "    \"\"\"\n",
        "    print(\"Устанавливается VPN-соединение...\")\n",
        "    # Здесь можно вызвать системные команды для VPN, если есть доступ\n",
        "    # os.system(\"openvpn --config myvpn.ovpn\")\n",
        "    print(\"VPN-соединение установлено. Ваш трафик зашифрован и защищен.\")\n",
        "\n",
        "# --- 3. Обновление системы и ПО (симуляция) ---\n",
        "\n",
        "def simulate_system_update():\n",
        "    \"\"\"\n",
        "    Симуляция обновления ОС и ПО.\n",
        "    \"\"\"\n",
        "    print(\"Проверка обновлений операционной системы и программ...\")\n",
        "    # os.system(\"sudo apt update && sudo apt upgrade -y\")  # для Linux\n",
        "    # os.system(\"wuauclt /detectnow\")  # для Windows\n",
        "    print(\"Система и программы обновлены до последних версий.\")\n",
        "\n",
        "# --- 4. Брандмауэр (firewall) ---\n",
        "\n",
        "def check_firewall_status():\n",
        "    \"\"\"\n",
        "    Проверка статуса брандмауэра (на Windows).\n",
        "    \"\"\"\n",
        "    print(\"Проверка статуса брандмауэра...\")\n",
        "    # В Windows можно использовать:\n",
        "    # os.system(\"netsh advfirewall show allprofiles\")\n",
        "    # Здесь просто выводим заглушку\n",
        "    print(\"Брандмауэр включен и активно фильтрует трафик.\")\n",
        "\n",
        "# --- 5. Биометрическая аутентификация (симуляция) ---\n",
        "\n",
        "def biometric_authentication_simulation(user_fingerprint):\n",
        "    \"\"\"\n",
        "    Симуляция биометрической аутентификации.\n",
        "    \"\"\"\n",
        "    authorized_fingerprint = \"fingerprint_hash_12345\"\n",
        "    if user_fingerprint == authorized_fingerprint:\n",
        "        print(\"Биометрическая аутентификация успешна. Доступ разрешен.\")\n",
        "        return True\n",
        "    else:\n",
        "        print(\"Биометрическая аутентификация не пройдена! Доступ запрещен.\")\n",
        "        return False\n",
        "\n",
        "# --- Визуализация: Распространенность методов защиты ---\n",
        "\n",
        "def plot_protection_methods_usage():\n",
        "    methods = [\n",
        "        \"Антивирусы\",\n",
        "        \"Шифрование\",\n",
        "        \"Резервные копии\",\n",
        "        \"Брандмауэр\",\n",
        "        \"VPN\",\n",
        "        \"Обновление ПО\",\n",
        "        \"Биометрия\",\n",
        "        \"Пароли BIOS\"\n",
        "    ]\n",
        "    usage_percent = [90, 80, 75, 70, 60, 85, 40, 50]  # примерные данные из источников\n",
        "\n",
        "    plt.figure(figsize=(10,6))\n",
        "    bars = plt.barh(methods, usage_percent, color='seagreen')\n",
        "    plt.xlabel(\"Процент пользователей, применяющих метод (%)\")\n",
        "    plt.title(\"Распространенность методов защиты данных на персональном компьютере\")\n",
        "    for bar in bars:\n",
        "        width = bar.get_width()\n",
        "        plt.text(width + 1, bar.get_y() + bar.get_height()/2, f'{width}%', va='center')\n",
        "    plt.gca().invert_yaxis()\n",
        "    plt.show()\n",
        "\n",
        "# --- Основные вызовы и выводы ---\n",
        "\n",
        "if __name__ == \"__main__\":\n",
        "    print(\"=== Проверка пароля BIOS ===\")\n",
        "    # Хеш правильного пароля \"SecureBIOS123\"\n",
        "    correct_bios_hash = hashlib.sha256(\"SecureBIOS123\".encode()).hexdigest()\n",
        "    check_bios_password(\"WrongPass\", correct_bios_hash)\n",
        "    check_bios_password(\"SecureBIOS123\", correct_bios_hash)\n",
        "\n",
        "    print(\"\\n=== Установка VPN соединения ===\")\n",
        "    simulate_vpn_connection()\n",
        "\n",
        "    print(\"\\n=== Обновление системы и ПО ===\")\n",
        "    simulate_system_update()\n",
        "\n",
        "    print(\"\\n=== Проверка брандмауэра ===\")\n",
        "    check_firewall_status()\n",
        "\n",
        "    print(\"\\n=== Биометрическая аутентификация ===\")\n",
        "    biometric_authentication_simulation(\"fingerprint_hash_wrong\")\n",
        "    biometric_authentication_simulation(\"fingerprint_hash_12345\")\n",
        "\n",
        "    print(\"\\n=== Визуализация распространенности методов защиты ===\")\n",
        "    plot_protection_methods_usage()\n",
        "\n",
        "    print(\"\\n=== Выводы ===\")\n",
        "    print(\"\"\"\n",
        "    1. Установка пароля на BIOS предотвращает несанкционированный доступ к настройкам загрузки ПК.\n",
        "    2. VPN обеспечивает шифрование интернет-трафика и защищает от перехвата данных.\n",
        "    3. Регулярное обновление системы и программ устраняет уязвимости и повышает безопасность.\n",
        "    4. Брандмауэр фильтрует сетевой трафик, блокируя подозрительные подключения.\n",
        "    5. Биометрическая аутентификация повышает уровень защиты, снижая риск взлома паролей.\n",
        "    6. Комплексное применение методов значительно снижает риски утечки и потери данных.\n",
        "    \"\"\")\n",
        "\n",
        "\"\"\"\n",
        "Библиографический список:\n",
        "\n",
        "[1] Positive Education. Защита персональных компьютеров. https://edu.ptsecurity.com/awareness/pc_protection\n",
        "[2] SearchInform. Способы защиты информации. https://searchinform.ru/informatsionnaya-bezopasnost/zaschita-informatsii/sposoby-zaschity-informatsii/\n",
        "[3] Help96. Защита информации на компьютере. https://help96.ru/zashchita-informacii-na-kompyutere/\n",
        "[4] SearchInform. Защита персональных данных на персональном компьютере. https://searchinform.ru/resheniya/biznes-zadachi/zaschita-personalnykh-dannykh/realizaciya-zashchity-personalnyh-dannyh/perechen-personalnyh-dannyh-podlezhashchih-zashchite/zaschita-personalnykh-dannykh-na-personalnom-kompyutere/\n",
        "[5] ZSC. Способы защиты информации на компьютере. https://zscomp.ru/news/Sposobi_zaschiti_informacii_na_kompyutere_text_/\n",
        "[6] Smart-Soft. Основные методы обеспечения информационной безопасности. https://www.smart-soft.ru/blog/osnovnye_metody_obespechenija_informatsionnoj_bezopasnosti/\n",
        "[7] Sobaka.ru. Как защитить свои данные на компьютере. https://m.sobaka.ru/lifestyle/gadgets/174046\n",
        "[8] RT-Solar. Способы защиты информации: как защитить данные в ... https://rt-solar.ru/products/solar_dozor/blog/3250/\n",
        "\"\"\""
      ],
      "metadata": {
        "id": "bnChV-0_l9nQ",
        "outputId": "9823f35f-b894-4459-aace-a36c1a535f53",
        "colab": {
          "base_uri": "https://localhost:8080/",
          "height": 1000
        }
      },
      "execution_count": null,
      "outputs": [
        {
          "output_type": "stream",
          "name": "stdout",
          "text": [
            "=== Проверка пароля BIOS ===\n",
            "Неверный пароль BIOS! Доступ запрещен\n",
            "Доступ к BIOS разрешен\n",
            "\n",
            "=== Установка VPN соединения ===\n",
            "Устанавливается VPN-соединение...\n",
            "VPN-соединение установлено. Ваш трафик зашифрован и защищен.\n",
            "\n",
            "=== Обновление системы и ПО ===\n",
            "Проверка обновлений операционной системы и программ...\n",
            "Система и программы обновлены до последних версий.\n",
            "\n",
            "=== Проверка брандмауэра ===\n",
            "Проверка статуса брандмауэра...\n",
            "Брандмауэр включен и активно фильтрует трафик.\n",
            "\n",
            "=== Биометрическая аутентификация ===\n",
            "Биометрическая аутентификация не пройдена! Доступ запрещен.\n",
            "Биометрическая аутентификация успешна. Доступ разрешен.\n",
            "\n",
            "=== Визуализация распространенности методов защиты ===\n"
          ]
        },
        {
          "output_type": "display_data",
          "data": {
            "text/plain": [
              "<Figure size 1000x600 with 1 Axes>"
            ],
            "image/png": "[encoded data removed]"
          },
          "metadata": {}
        },
        {
          "output_type": "stream",
          "name": "stdout",
          "text": [
            "\n",
            "=== Выводы ===\n",
            "\n",
            "    1. Установка пароля на BIOS предотвращает несанкционированный доступ к настройкам загрузки ПК.\n",
            "    2. VPN обеспечивает шифрование интернет-трафика и защищает от перехвата данных.\n",
            "    3. Регулярное обновление системы и программ устраняет уязвимости и повышает безопасность.\n",
            "    4. Брандмауэр фильтрует сетевой трафик, блокируя подозрительные подключения.\n",
            "    5. Биометрическая аутентификация повышает уровень защиты, снижая риск взлома паролей.\n",
            "    6. Комплексное применение методов значительно снижает риски утечки и потери данных.\n",
            "    \n"
          ]
        },
        {
          "output_type": "execute_result",
          "data": {
            "text/plain": [
              "'\\nБиблиографический список:\\n\\n[1] Positive Education. Защита персональных компьютеров. https://edu.ptsecurity.com/awareness/pc_protection\\n[2] SearchInform. Способы защиты информации. https://searchinform.ru/informatsionnaya-bezopasnost/zaschita-informatsii/sposoby-zaschity-informatsii/\\n[3] Help96. Защита информации на компьютере. https://help96.ru/zashchita-informacii-na-kompyutere/\\n[4] SearchInform. Защита персональных данных на персональном компьютере. https://searchinform.ru/resheniya/biznes-zadachi/zaschita-personalnykh-dannykh/realizaciya-zashchity-personalnyh-dannyh/perechen-personalnyh-dannyh-podlezhashchih-zashchite/zaschita-personalnykh-dannykh-na-personalnom-kompyutere/\\n[5] ZSC. Способы защиты информации на компьютере. https://zscomp.ru/news/Sposobi_zaschiti_informacii_na_kompyutere_text_/\\n[6] Smart-Soft. Основные методы обеспечения информационной безопасности. https://www.smart-soft.ru/blog/osnovnye_metody_obespechenija_informatsionnoj_bezopasnosti/\\n[7] Sobaka.ru. Как защитить свои данные на компьютере. https://m.sobaka.ru/lifestyle/gadgets/174046\\n[8] RT-Solar. Способы защиты информации: как защитить данные в ... https://rt-solar.ru/products/solar_dozor/blog/3250/\\n'"
            ],
            "application/vnd.google.colaboratory.intrinsic+json": {
              "type": "string"
            }
          },
          "metadata": {},
          "execution_count": 5
        }
      ]
    }
  ]
}