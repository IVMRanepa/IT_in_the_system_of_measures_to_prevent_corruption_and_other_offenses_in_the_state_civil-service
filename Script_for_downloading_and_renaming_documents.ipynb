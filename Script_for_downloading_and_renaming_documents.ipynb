{
  "nbformat": 4,
  "nbformat_minor": 0,
  "metadata": {
    "colab": {
      "provenance": [],
      "name": "Script for downloading and renaming documents.ipynb",
      "authorship_tag": "ABX9TyPFPZIlDNcQsXlP4hiXRdi1",
      "include_colab_link": true
    },
    "kernelspec": {
      "name": "python3",
      "display_name": "Python 3"
    },
    "language_info": {
      "name": "python"
    }
  },
  "cells": [
    {
      "cell_type": "markdown",
      "metadata": {
        "id": "view-in-github",
        "colab_type": "text"
      },
      "source": [
        "<a href=\"https://colab.research.google.com/github/IVMRanepa/IT_in_the_system_of_measures_to_prevent_corruption_and_other_offenses_in_the_state_civil-service/blob/main/Script_for_downloading_and_renaming_documents.ipynb\" target=\"_parent\"><img src=\"https://colab.research.google.com/assets/colab-badge.svg\" alt=\"Open In Colab\"/></a>"
      ]
    },
    {
      "cell_type": "markdown",
      "source": [
        "# **Скрипт для загрузки и переименования документов**"
      ],
      "metadata": {
        "id": "kmJYARdRAO-r"
      }
    },
    {
      "cell_type": "code",
      "execution_count": null,
      "metadata": {
        "colab": {
          "base_uri": "https://localhost:8080/",
          "height": 211
        },
        "id": "mliWbXD98tnA",
        "outputId": "cfeeac19-0f0a-45e1-b97f-effb7583661f"
      },
      "outputs": [
        {
          "output_type": "error",
          "ename": "FileNotFoundError",
          "evalue": "[Errno 2] No such file or directory: 'resource_urls\\\\papers.txt'",
          "traceback": [
            "\u001b[0;31m---------------------------------------------------------------------------\u001b[0m",
            "\u001b[0;31mFileNotFoundError\u001b[0m                         Traceback (most recent call last)",
            "\u001b[0;32m<ipython-input-1-687e225c11c0>\u001b[0m in \u001b[0;36m<cell line: 0>\u001b[0;34m()\u001b[0m\n\u001b[1;32m     15\u001b[0m \u001b[0mpathlib\u001b[0m\u001b[0;34m.\u001b[0m\u001b[0mPath\u001b[0m\u001b[0;34m(\u001b[0m\u001b[0;34m'resources'\u001b[0m\u001b[0;34m)\u001b[0m\u001b[0;34m.\u001b[0m\u001b[0mmkdir\u001b[0m\u001b[0;34m(\u001b[0m\u001b[0mparents\u001b[0m\u001b[0;34m=\u001b[0m\u001b[0;32mTrue\u001b[0m\u001b[0;34m,\u001b[0m \u001b[0mexist_ok\u001b[0m\u001b[0;34m=\u001b[0m\u001b[0;32mTrue\u001b[0m\u001b[0;34m)\u001b[0m\u001b[0;34m\u001b[0m\u001b[0;34m\u001b[0m\u001b[0m\n\u001b[1;32m     16\u001b[0m \u001b[0;34m\u001b[0m\u001b[0m\n\u001b[0;32m---> 17\u001b[0;31m \u001b[0mf\u001b[0m \u001b[0;34m=\u001b[0m \u001b[0mopen\u001b[0m\u001b[0;34m(\u001b[0m\u001b[0;34m'resource_urls\\\\papers.txt'\u001b[0m\u001b[0;34m,\u001b[0m \u001b[0;34m'r'\u001b[0m\u001b[0;34m)\u001b[0m\u001b[0;34m\u001b[0m\u001b[0;34m\u001b[0m\u001b[0m\n\u001b[0m\u001b[1;32m     18\u001b[0m \u001b[0;32mfor\u001b[0m \u001b[0mline\u001b[0m \u001b[0;32min\u001b[0m \u001b[0mf\u001b[0m\u001b[0;34m:\u001b[0m\u001b[0;34m\u001b[0m\u001b[0;34m\u001b[0m\u001b[0m\n\u001b[1;32m     19\u001b[0m     \u001b[0;31m# print(line)\u001b[0m\u001b[0;34m\u001b[0m\u001b[0;34m\u001b[0m\u001b[0m\n",
            "\u001b[0;31mFileNotFoundError\u001b[0m: [Errno 2] No such file or directory: 'resource_urls\\\\papers.txt'"
          ]
        }
      ],
      "source": [
        "#!/usr/bin/python\n",
        "\n",
        "\"\"\"\n",
        "    This script will download all papers/books and rename to proper name\n",
        "    if there is no copyright issue.\n",
        "\n",
        "    TODO: download resources by item number\n",
        "    TODO: add exception handler for downloader\n",
        "\"\"\"\n",
        "import re\n",
        "import pathlib\n",
        "import urllib.request\n",
        "\n",
        "# initialize the log directory if it does not exist\n",
        "pathlib.Path('resources').mkdir(parents=True, exist_ok=True)\n",
        "\n",
        "f = open('resource_urls\\\\papers.txt', 'r')\n",
        "for line in f:\n",
        "    # print(line)\n",
        "    line_splits = line.split(' | ')\n",
        "\n",
        "    # remove all special char in file name\n",
        "    file_name = re.sub(r'[\\\\/*?:\"<>|]', \"\", line_splits[0])\n",
        "    # strip filename length in case it is too long\n",
        "    if len(file_name) > 255:\n",
        "        file_name = file_name[:255]\n",
        "    url = line_splits[1]\n",
        "\n",
        "    print('Downloading', file_name, 'from', url)\n",
        "    urllib.request.urlretrieve(url, \"resources\\\\\" + file_name + '.pdf')\n",
        "\n",
        "f.close()"
      ]
    },
    {
      "cell_type": "markdown",
      "source": [
        "\n",
        "Найти и сформировать каталог журнала: Научно-практический журнал \"Юридическая наука\" - в файле papers.txt для реализации кода"
      ],
      "metadata": {
        "id": "-rzuqqCT-gLN"
      }
    },
    {
      "cell_type": "markdown",
      "source": [
        "Для формирования каталога журнала \"Научно-практический журнал 'Юридическая наука'\" в файле papers.txt, который будет использоваться в вашем Python-скрипте для скачивания статей, необходимо:\n",
        "\n",
        "Собрать список статей журнала с указанием корректных названий и URL для скачивания PDF-файлов.\n",
        "\n",
        "В файле papers.txt каждая строка должна содержать название статьи и URL, разделённые \" | \", например:\n",
        "\n",
        "Название статьи 1 | http://example.com/article1.pdf\n",
        "Название статьи 2 | http://example.com/article2.pdf\n",
        "...\n"
      ],
      "metadata": {
        "id": "TLyOPBsY-pZ8"
      }
    },
    {
      "cell_type": "markdown",
      "source": [
        "Шаги для создания каталога журнала \"Юридическая наука\"\n",
        "1. Источники информации о журнале\n",
        "Журнал \"Юридическая наука\" — это научно-практическое издание с ISSN 2220-5500, входящее в перечень ВАК России, публикующее статьи по широкому спектру юридических наук (конституционное право, гражданское право, уголовное право, международное право и др.).\n",
        "\n",
        "2. Поиск и сбор ссылок на статьи\n",
        "На сайте журнала (https://jurnauka.ru) можно найти выпуски и содержание статей, например, PDF-файлы выпусков с перечнем статей.\n",
        "\n",
        "Также можно использовать другие платформы, где размещаются статьи журнала, например CyberLeninka.\n",
        "\n",
        "3. Формат файла papers.txt\n",
        "Каждая строка должна содержать название статьи (без запрещённых символов для имени файла) и прямую ссылку на PDF.\n",
        "\n",
        "Разделитель — \" | \".\n",
        "\n",
        "**Пример строки:**\n",
        "* Современные образовательные тенденции в области цифрового правосудия | https://jurnauka.ru/upload/iblock/b6d/№2_2018.pdf\n",
        "* (Здесь URL — ссылка на весь выпуск, для конкретных статей нужна точная ссылка на PDF статьи, если она доступна.)\n",
        "* Пример содержимого файла papers.txt\n",
        "* Разрешение споров | https://jurnauka.ru/upload/iblock/b6d/№2_2018.pdf\n",
        "* Современные образовательные тенденции в области цифрового правосудия: на примере Великобритании, Канады, ОАЭ, России | https://jurnauka.ru/upload/iblock/b6d/№2_2018.pdf\n",
        "* Правовое определение, сущность и содержание понятия «электронная демократия» | https://jurnauka.ru/upload/iblock/b6d/№2_2018.pdf\n",
        "* Юридическая природа перевода долга: критический анализ некоторых подходов | https://jurnauka.ru/upload/iblock/b6d/№2_2018.pdf\n",
        "Institute of Legal Title Insurance in Russia and the USA: essence and prospects of development | https://jurnauka.ru/upload/iblock/b6d/№2_2018.pdf\n",
        "\n",
        "(В данном примере ссылки ведут на общий PDF выпуска, для более точного скачивания отдельных статей необходимы прямые ссылки на статьи.)\n",
        "\n",
        "**Комментарии к вашему коду**\n",
        "* Ваш скрипт читает файл papers.txt, разбивает строки по разделителю \" | \", очищает название статьи от запрещённых символов и скачивает PDF в папку resources.\n",
        "* Для корректной работы нужно, чтобы файл papers.txt был правильно сформирован, с корректными URL.\n",
        "* Важно, чтобы URL в файле вели непосредственно к PDF-файлам статей, а не к страницам с описанием.\n",
        "\n",
        "**Выводы и рекомендации**\n",
        "* Для реализации кода необходимо сформировать файл papers.txt с парами \"название статьи | URL на PDF\".\n",
        "* Для этого можно вручную или с помощью парсера собрать данные с официального сайта журнала или платформ, где размещены статьи.\n",
        "* Убедитесь, что ссылки ведут непосредственно на PDF, чтобы urllib.request.urlretrieve мог успешно скачать файлы.\n",
        "* Названия статей должны быть очищены от символов, запрещённых в именах файлов (как реализовано в вашем скрипте).\n",
        "* Если нет прямых ссылок на отдельные статьи, можно скачать целые выпуски и потом вручную или программно выделять статьи.\n",
        "* Таким образом, каталог для файла papers.txt — это список статей журнала \"Юридическая наука\" с корректными названиями и прямыми ссылками на PDF, который можно формировать на основе информации с официального сайта журнала и доступных выпусков."
      ],
      "metadata": {
        "id": "MSfhTGnT-3Mb"
      }
    }
  ]
}